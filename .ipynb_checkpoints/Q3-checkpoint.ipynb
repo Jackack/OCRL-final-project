{
 "cells": [
  {
   "cell_type": "markdown",
   "id": "a23aae7b",
   "metadata": {},
   "source": [
    "## Q3 (5 pts)\n",
    "\n",
    "Please fill out the following project form (one per group). This will primarily be for the TAs to use to understand what you are working on and hopefully be able to better assist you. If you haven't decided on certain aspects of the project, just include what you are currently thinking/what decisions you need to make."
   ]
  },
  {
   "cell_type": "markdown",
   "id": "7674d43c",
   "metadata": {},
   "source": [
    "\n",
    "**(1) Write down your dynamics (handwritten, code, or latex). This can be continuous-time (include how you are discretizing your system) or discrete-time.**"
   ]
  },
  {
   "cell_type": "markdown",
   "id": "c2a65763",
   "metadata": {},
   "source": [
    "We plan on using the kinematic bicyle model. The continuous-time formulation is written below:\n",
    "\n",
    "$$\\begin{align} x = \\begin{bmatrix} p_x \\\\ p_y \\\\ \\theta \\\\ \\delta \\\\ v  \\end{bmatrix}, &\\quad \\quad u = \\begin{bmatrix} a \\\\ \\dot{\\delta} \\end{bmatrix}  \\end{align} $$ \n",
    "\n",
    "\\begin{align} \\dot{x} = \n",
    "    \\begin{bmatrix}\n",
    "        & v \\cdot cos(\\theta + \\beta)\\\\\n",
    "        & v \\cdot sin(\\theta + \\beta)\\\\\n",
    "        \\\\\n",
    "        & \\dfrac{v \\cdot cos(\\beta)tan(\\delta)}{L}\\\\\n",
    "        \\\\\n",
    "        & \\dot{\\delta}\\\\\n",
    "        & a\n",
    "    \\end{bmatrix}\n",
    "\\end{align}\n",
    "\n",
    "$L = l_f + l_r$ is the wheelbase of the vehicle. $\\beta = arctan(\\frac{l_r \\cdot \\delta}{L})$ \n",
    "\n",
    "In order to obtain a minimum-time optimization problem, we re-parameterize the state space with respect to some parametric curve as done in https://www.researchgate.net/publication/301275605_A_Hierarchical_Model_Predictive_Control_Framework_for_On-road_Formation_Control_of_Autonomous_Vehicles/download?_tp=eyJjb250ZXh0Ijp7ImZpcnN0UGFnZSI6Il9kaXJlY3QiLCJwYWdlIjoiX2RpcmVjdCJ9fQ\n",
    "\n",
    "In Frenet frame, the continuous time dynamics is given by:\n",
    "$$\n",
    "\\begin{align}\n",
    "    \\dot{s} &= \\frac{vcos(e_{\\psi})}{1 - r\\kappa(s)}\\\\\n",
    "    \\dot{r} &= vsin(e_{\\psi})\\\\\n",
    "    \\dot{e_{\\psi}} &= \\dot{\\beta} + \\frac{vcos(e_{\\psi})\\kappa(s)}{1 - r\\kappa(s)}\\\\\n",
    "    \\dot{\\delta} &= w\\\\ \n",
    "    \\dot{v} &= a\n",
    "\\end{align}\n",
    "$$\n",
    "$e_{\\psi} = \\theta - \\psi$, where $\\psi$ is the heading of the path curve. $l_r$ is the distance from the COM of the vehicle to the rear axle.\n"
   ]
  },
  {
   "cell_type": "markdown",
   "id": "a354260d",
   "metadata": {},
   "source": [
    "**(2) What is your state (what does each variable represent)?**"
   ]
  },
  {
   "cell_type": "markdown",
   "id": "44a79fa4",
   "metadata": {},
   "source": [
    "$$\\begin{align} x = \\begin{bmatrix} p_x \\\\ p_y \\\\ \\theta \\\\ \\delta \\\\ v  \\end{bmatrix} \\end{align} $$ \n",
    "\n",
    "$p_x$ and $p_y$ are position on 2D plane. $\\theta$ is yaw of the vehicle, and $\\delta$ is the steering angle. $v$ is the speed. After reparameterization, we have \n",
    "$$\\begin{align} x = \\begin{bmatrix} s \\\\ r  \\\\ e_{\\psi}\\\\ \\delta \\\\ v \\end{bmatrix} \\end{align} $$ \n",
    "\n",
    "$s$ is distance along the path curve, $r$ is the signed distance perpendicular to the path curve, $e_{\\psi} = \\theta - \\psi$, where $\\psi$ is the heading of the path curve. "
   ]
  },
  {
   "cell_type": "markdown",
   "id": "b5182ec6",
   "metadata": {},
   "source": [
    "**(3) What is your control (what does each variable represent)?**"
   ]
  },
  {
   "cell_type": "markdown",
   "id": "679724a4",
   "metadata": {},
   "source": [
    "$u = \\begin{bmatrix} a \\\\ \\dot{\\delta} \\end{bmatrix} $, where $a$ is acceleration and $\\dot{\\delta}$ is the rate of steering angle."
   ]
  },
  {
   "cell_type": "markdown",
   "id": "1ab1ee48",
   "metadata": {},
   "source": [
    "**(4) Briefly describe your goal for the project. What are you trying to make the system do? Specify whether you are doing control, trajectory optimization, both, or something else.**"
   ]
  },
  {
   "cell_type": "markdown",
   "id": "792fedf6",
   "metadata": {},
   "source": [
    "We are trying to design a minimum-time trajectory optimizer and controller for racing. We are going to do trajectory optimization off-line to produce a minimum time reference trajectory. We then use a receding horizon MPC on-line to track the reference trajectory and avoid dynamic obstacles."
   ]
  },
  {
   "cell_type": "markdown",
   "id": "3b646102",
   "metadata": {},
   "source": [
    "**(5) What are your costs?**"
   ]
  },
  {
   "cell_type": "markdown",
   "id": "de84db11",
   "metadata": {},
   "source": [
    "In the offline problem, our cost is $||T - T_{ref}||_2^2$, where $T_{ref}$ is \"slightly infeasible\". T is the time taken to complete the course, and can be calculated by summing $\\frac{t_{step}}{\\dot{s(t)}}$ at each time step of duration $t_{step}$. In the online problem, the cost is $(x_{ref, n+N} - x_{n+N})^TQ_f(x_{ref, N+n} - x_{N+n}) + \\sum_{n+k}^{n + N}(x_{ref, n + k} - x_{n + k})^TQ(x_{ref, n + k} - x_{n + k}) + (u_{ref, n + k} - u_{n + k})^TR(u_{ref, n + k} - u_{n + k})$ at timestep n with horizon N, and $x_{ref}, u_{ref}$ from solution of the offline problem"
   ]
  },
  {
   "cell_type": "markdown",
   "id": "368c8b17",
   "metadata": {},
   "source": [
    "*(6) What are your constraints?**"
   ]
  },
  {
   "cell_type": "markdown",
   "id": "4da33bfd",
   "metadata": {},
   "source": [
    "In both online and offline problems, we have equality constraints using the discrete time dynamics in frenet frame. We also represent the road boundary as an inequality constraint on $r$, the cross-track distance. Finally, we represent obstacle constraints as inequality constraint on the L2 norm of the vector between the position of the ego-vehicle and the obstalce."
   ]
  },
  {
   "cell_type": "markdown",
   "id": "a0b8ffd2",
   "metadata": {},
   "source": [
    "**(7) What solution methods are you going to try?**\n"
   ]
  },
  {
   "cell_type": "markdown",
   "id": "3188e8af",
   "metadata": {},
   "source": [
    "We are going to try using IPOPT for both online and offline optimization. "
   ]
  },
  {
   "cell_type": "markdown",
   "id": "7f8d9a7d",
   "metadata": {},
   "source": [
    "**(8) What have you tried so far?**"
   ]
  },
  {
   "cell_type": "markdown",
   "id": "e8bbf4ae",
   "metadata": {},
   "source": [
    "N/A"
   ]
  },
  {
   "cell_type": "markdown",
   "id": "e6eca77f",
   "metadata": {},
   "source": [
    "**(9) If applicable, what are you currently running into issues with?**"
   ]
  },
  {
   "cell_type": "markdown",
   "id": "e7cfc4f1",
   "metadata": {},
   "source": [
    "N/A"
   ]
  },
  {
   "cell_type": "markdown",
   "id": "aed4e1da",
   "metadata": {},
   "source": [
    "**(10) If your system doesn't fit with some of the questions above or there are additional things you'd like to elaborate on, please explain/do that here.**"
   ]
  },
  {
   "cell_type": "markdown",
   "id": "74f51a99",
   "metadata": {},
   "source": []
  }
 ],
 "metadata": {
  "kernelspec": {
   "display_name": "Julia 1.6.7",
   "language": "julia",
   "name": "julia-1.6"
  },
  "language_info": {
   "file_extension": ".jl",
   "mimetype": "application/julia",
   "name": "julia",
   "version": "1.6.7"
  }
 },
 "nbformat": 4,
 "nbformat_minor": 5
}
